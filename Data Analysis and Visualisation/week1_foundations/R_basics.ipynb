{
  "nbformat": 4,
  "nbformat_minor": 0,
  "metadata": {
    "colab": {
      "provenance": [],
      "authorship_tag": "ABX9TyOjP+IYEMhZge6VFBztw+C2",
      "include_colab_link": true
    },
    "kernelspec": {
      "name": "python3",
      "display_name": "Python 3"
    },
    "language_info": {
      "name": "python"
    }
  },
  "cells": [
    {
      "cell_type": "markdown",
      "metadata": {
        "id": "view-in-github",
        "colab_type": "text"
      },
      "source": [
        "<a href=\"https://colab.research.google.com/github/Sibitenda/Masters_MIS/blob/main/Data%20Analysis%20and%20Visualisation/week1_foundations/R_basics.ipynb\" target=\"_parent\"><img src=\"https://colab.research.google.com/assets/colab-badge.svg\" alt=\"Open In Colab\"/></a>"
      ]
    },
    {
      "cell_type": "code",
      "execution_count": 1,
      "metadata": {
        "colab": {
          "base_uri": "https://localhost:8080/"
        },
        "id": "qyOPT7f_m3Xc",
        "outputId": "856cc98b-8c91-45d4-dd5d-a9702b42d78e"
      },
      "outputs": [
        {
          "output_type": "stream",
          "name": "stdout",
          "text": [
            "Reading package lists... Done\n",
            "Building dependency tree... Done\n",
            "Reading state information... Done\n",
            "r-base is already the newest version (4.5.1-1.2204.0).\n",
            "0 upgraded, 0 newly installed, 0 to remove and 35 not upgraded.\n"
          ]
        }
      ],
      "source": [
        "# Run this in a code cell in Colab\n",
        "!apt-get install -y r-base\n",
        "%load_ext rpy2.ipython\n"
      ]
    },
    {
      "cell_type": "code",
      "source": [
        "%%R\n",
        "x <- c(1, 2, 3, 4, 5)\n",
        "mean(x)\n"
      ],
      "metadata": {
        "colab": {
          "base_uri": "https://localhost:8080/"
        },
        "id": "KY8SgY7VonUx",
        "outputId": "9f43022f-5c5e-4f39-e4f5-60dedafd9369"
      },
      "execution_count": 3,
      "outputs": [
        {
          "output_type": "stream",
          "name": "stdout",
          "text": [
            "[1] 3\n"
          ]
        }
      ]
    },
    {
      "cell_type": "code",
      "source": [
        "# This is an R cell\n",
        "# summary(cars)\n",
        "# install.packages(\"readr\", repos = \"http://cran.us.r-project.org\")\n",
        "%%R\n",
        "install.packages(c(\"readr\", \"readxl\", \"jsonlite\", \"httr\", \"tidyverse\"), repos = \"http://cran.us.r-project.org\")\n",
        "\n",
        "\n"
      ],
      "metadata": {
        "colab": {
          "base_uri": "https://localhost:8080/",
          "height": 191
        },
        "id": "q1tGAFr4ox_n",
        "outputId": "ecf6d413-30b7-4ba6-97eb-2f8b7ef30f0d"
      },
      "execution_count": 6,
      "outputs": [
        {
          "output_type": "display_data",
          "data": {
            "text/plain": [
              "Installing packages into ‘/usr/local/lib/R/site-library’\n",
              "(as ‘lib’ is unspecified)\n",
              "trying URL 'http://cran.us.r-project.org/src/contrib/readr_2.1.5.tar.gz'\n",
              "trying URL 'http://cran.us.r-project.org/src/contrib/readxl_1.4.5.tar.gz'\n",
              "trying URL 'http://cran.us.r-project.org/src/contrib/jsonlite_2.0.0.tar.gz'\n",
              "trying URL 'http://cran.us.r-project.org/src/contrib/httr_1.4.7.tar.gz'\n",
              "trying URL 'http://cran.us.r-project.org/src/contrib/tidyverse_2.0.0.tar.gz'\n",
              "\n",
              "The downloaded source packages are in\n",
              "\t‘/tmp/RtmpJf5sOR/downloaded_packages’\n"
            ]
          },
          "metadata": {}
        }
      ]
    },
    {
      "cell_type": "code",
      "source": [
        "%%R\n",
        "library(readr)\n",
        "library(readxl)\n",
        "library(jsonlite)\n",
        "library(httr)\n",
        "library(tidyverse)\n"
      ],
      "metadata": {
        "colab": {
          "base_uri": "https://localhost:8080/"
        },
        "id": "9PpcS2GQnut6",
        "outputId": "69c7f5f6-0f19-47ac-f084-d4fdab5e2db9"
      },
      "execution_count": 7,
      "outputs": [
        {
          "output_type": "stream",
          "name": "stdout",
          "text": [
            "── Attaching core tidyverse packages ──────────────────────── tidyverse 2.0.0 ──\n",
            "✔ dplyr     1.1.4     ✔ purrr     1.1.0\n",
            "✔ forcats   1.0.0     ✔ stringr   1.5.1\n",
            "✔ ggplot2   3.5.2     ✔ tibble    3.3.0\n",
            "✔ lubridate 1.9.4     ✔ tidyr     1.3.1\n",
            "── Conflicts ────────────────────────────────────────── tidyverse_conflicts() ──\n",
            "✖ dplyr::filter()  masks stats::filter()\n",
            "✖ purrr::flatten() masks jsonlite::flatten()\n",
            "✖ dplyr::lag()     masks stats::lag()\n",
            "ℹ Use the conflicted package (<http://conflicted.r-lib.org/>) to force all conflicts to become errors\n"
          ]
        }
      ]
    },
    {
      "cell_type": "code",
      "source": [
        "%%R\n",
        "url <- \"https://raw.githubusercontent.com/Sibitenda/Masters_MIS/main/Data%20Analysis%20and%20Visualisation/Data/Salaries.csv\"\n",
        "\n",
        "# Read the CSV\n",
        "df <- read_csv(url)\n",
        "df <- tryCatch(\n",
        "  read_csv(url),\n",
        "  error = function(e) {\n",
        "    message(\"Warning: skipping bad lines\")\n",
        "    read_csv(url, skip = 1)  # or try skip = 0, 1, 2 depending on issue\n",
        "  }\n",
        ")\n",
        "head(df)     # Shows first few rows in console"
      ],
      "metadata": {
        "colab": {
          "base_uri": "https://localhost:8080/"
        },
        "id": "D890qMQKrvYu",
        "outputId": "caa0278c-4286-4728-9f68-068265f9bcb2"
      },
      "execution_count": 11,
      "outputs": [
        {
          "output_type": "stream",
          "name": "stdout",
          "text": [
            "Rows: 78 Columns: 6\n",
            "── Column specification ────────────────────────────────────────────────────────\n",
            "Delimiter: \",\"\n",
            "chr (3): rank, discipline, sex\n",
            "dbl (3): phd, service, salary\n",
            "\n",
            "ℹ Use `spec()` to retrieve the full column specification for this data.\n",
            "ℹ Specify the column types or set `show_col_types = FALSE` to quiet this message.\n",
            "Rows: 78 Columns: 6\n",
            "── Column specification ────────────────────────────────────────────────────────\n",
            "Delimiter: \",\"\n",
            "chr (3): rank, discipline, sex\n",
            "dbl (3): phd, service, salary\n",
            "\n",
            "ℹ Use `spec()` to retrieve the full column specification for this data.\n",
            "ℹ Specify the column types or set `show_col_types = FALSE` to quiet this message.\n",
            "# A tibble: 6 × 6\n",
            "  rank  discipline   phd service sex   salary\n",
            "  <chr> <chr>      <dbl>   <dbl> <chr>  <dbl>\n",
            "1 Prof  B             56      49 Male  186960\n",
            "2 Prof  A             12       6 Male   93000\n",
            "3 Prof  A             23      20 Male  110515\n",
            "4 Prof  A             40      31 Male  131205\n",
            "5 Prof  B             20      18 Male  104800\n",
            "6 Prof  A             20      20 Male  122400\n"
          ]
        }
      ]
    },
    {
      "cell_type": "code",
      "source": [
        "# %%R\n",
        "# Check the type of the 'salary' column\n",
        "%%R\n",
        "typeof(df$salary)       # Base R: tells the storage type (e.g., \"double\", \"character\")\n",
        "\n",
        "class(df$salary)        # Gives the R class of the column (e.g., \"numeric\", \"factor\")\n",
        "\n",
        "str(df$salary)          # Structure summary of the column\n"
      ],
      "metadata": {
        "colab": {
          "base_uri": "https://localhost:8080/"
        },
        "id": "yY1kPlpcoe3-",
        "outputId": "efb5e05e-8b30-45e2-ad15-5085e09cd27b"
      },
      "execution_count": 12,
      "outputs": [
        {
          "output_type": "stream",
          "name": "stdout",
          "text": [
            " num [1:78] 186960 93000 110515 131205 104800 ...\n"
          ]
        }
      ]
    },
    {
      "cell_type": "code",
      "source": [
        "%%R\n",
        "install.packages(\"dplyr\")  # Run once if not already installed\n",
        "library(dplyr)\n",
        "\n",
        "glimpse(df)\n"
      ],
      "metadata": {
        "colab": {
          "base_uri": "https://localhost:8080/",
          "height": 329
        },
        "id": "nm3zmUN0rWDt",
        "outputId": "14a66659-98d0-404b-9e3d-042968acdf1d"
      },
      "execution_count": 14,
      "outputs": [
        {
          "output_type": "stream",
          "name": "stdout",
          "text": [
            "Rows: 78\n",
            "Columns: 6\n",
            "$ rank       <chr> \"Prof\", \"Prof\", \"Prof\", \"Prof\", \"Prof\", \"Prof\", \"AssocProf\"…\n",
            "$ discipline <chr> \"B\", \"A\", \"A\", \"A\", \"B\", \"A\", \"A\", \"A\", \"A\", \"A\", \"B\", \"B\",…\n",
            "$ phd        <dbl> 56, 12, 23, 40, 20, 20, 20, 18, 29, 51, 39, 23, 1, 35, 25, …\n",
            "$ service    <dbl> 49, 6, 20, 31, 18, 20, 17, 18, 19, 51, 33, 23, 0, 33, 19, 3…\n",
            "$ sex        <chr> \"Male\", \"Male\", \"Male\", \"Male\", \"Male\", \"Male\", \"Male\", \"Ma…\n",
            "$ salary     <dbl> 186960, 93000, 110515, 131205, 104800, 122400, 81285, 12630…\n"
          ]
        },
        {
          "output_type": "display_data",
          "data": {
            "text/plain": [
              "Installing package into ‘/usr/local/lib/R/site-library’\n",
              "(as ‘lib’ is unspecified)\n",
              "trying URL 'https://cran.rstudio.com/src/contrib/dplyr_1.1.4.tar.gz'\n",
              "Content type 'application/x-gzip' length 1207521 bytes (1.2 MB)\n",
              "==================================================\n",
              "downloaded 1.2 MB\n",
              "\n",
              "\n",
              "The downloaded source packages are in\n",
              "\t‘/tmp/RtmpJf5sOR/downloaded_packages’\n"
            ]
          },
          "metadata": {}
        }
      ]
    },
    {
      "cell_type": "markdown",
      "source": [
        "# 🔍 DATA ANALYSIS PRACTICE IN R ----------------------------------\n",
        "\n",
        "# Dataset: Salaries.csv (assumed already loaded as df)\n",
        "\n",
        "# 1. Try to read the first 10, 20, 50 records:\n",
        "head(df, 10)\n",
        "head(df, 20)\n",
        "head(df, 50)\n",
        "\n",
        "# 2. Can you guess how to view the last few records?\n",
        "# Try this:\n",
        "tail(df)         # Default is last 6 rows\n",
        "tail(df, 10)     # Last 10 rows\n",
        "\n",
        "# 3. Find how many records this data frame has:\n",
        "nrow(df)         # Number of rows\n",
        "\n",
        "# 4. How many elements are there?\n",
        "length(df)       # Number of columns\n",
        "length(unlist(df)) # Total number of individual elements\n",
        "\n",
        "# 5. What are the column names?\n",
        "colnames(df)\n",
        "\n",
        "# 6. What types of columns we have in this data frame?\n",
        "sapply(df, class)\n",
        "\n",
        "# 7. Give the summary for the numeric columns in the dataset:\n",
        "summary(df)\n",
        "\n",
        "# 8. Calculate standard deviation for all numeric columns:\n",
        "sapply(df, function(x) if(is.numeric(x)) sd(x, na.rm = TRUE))\n",
        "\n",
        "# 9. What are the mean values of the first 50 records?\n",
        "# Hint: use head() to subset, then apply mean\n",
        "df_head50 <- head(df, 50)\n",
        "sapply(df_head50, function(x) if(is.numeric(x)) mean(x, na.rm = TRUE))\n",
        "\n",
        "# 10. Calculate the basic statistics for the salary column:\n",
        "summary(df$salary)\n",
        "sd(df$salary, na.rm = TRUE)\n",
        "mean(df$salary, na.rm = TRUE)\n",
        "\n",
        "# 11. Find how many values are in the salary column:\n",
        "length(df$salary)\n",
        "\n",
        "# 12. Calculate the average salary:\n",
        "mean(df$salary, na.rm = TRUE)\n",
        "\n",
        "# ---------------------------------------------------------------\n"
      ],
      "metadata": {
        "id": "wC6Byz5ZtNMR"
      }
    },
    {
      "cell_type": "code",
      "source": [
        "%%R\n",
        "# Group the data by the 'rank' column\n",
        "df_rank <- df %>% group_by(rank)\n",
        "\n",
        "# View grouped data structure (this doesn't compute aggregates yet)\n",
        "df_rank\n"
      ],
      "metadata": {
        "colab": {
          "base_uri": "https://localhost:8080/"
        },
        "id": "kqHb9iZWuBLv",
        "outputId": "fb15d4b6-ab04-425d-d58b-a6795fa95a55"
      },
      "execution_count": 16,
      "outputs": [
        {
          "output_type": "stream",
          "name": "stdout",
          "text": [
            "# A tibble: 78 × 6\n",
            "# Groups:   rank [3]\n",
            "   rank      discipline   phd service sex   salary\n",
            "   <chr>     <chr>      <dbl>   <dbl> <chr>  <dbl>\n",
            " 1 Prof      B             56      49 Male  186960\n",
            " 2 Prof      A             12       6 Male   93000\n",
            " 3 Prof      A             23      20 Male  110515\n",
            " 4 Prof      A             40      31 Male  131205\n",
            " 5 Prof      B             20      18 Male  104800\n",
            " 6 Prof      A             20      20 Male  122400\n",
            " 7 AssocProf A             20      17 Male   81285\n",
            " 8 Prof      A             18      18 Male  126300\n",
            " 9 Prof      A             29      19 Male   94350\n",
            "10 Prof      A             51      51 Male   57800\n",
            "# ℹ 68 more rows\n",
            "# ℹ Use `print(n = ...)` to see more rows\n"
          ]
        }
      ]
    },
    {
      "cell_type": "code",
      "source": [
        "%%R\n",
        "# Example: Mean salary per rank\n",
        "df %>%\n",
        "  group_by(rank) %>%\n",
        "  summarise(\n",
        "    avg_salary = mean(salary, na.rm = TRUE),\n",
        "    count = n()\n",
        "  )\n"
      ],
      "metadata": {
        "colab": {
          "base_uri": "https://localhost:8080/"
        },
        "id": "xRWl0URssmKu",
        "outputId": "9b5ea36a-7a2e-4ef3-bbc0-cbb42a893b92"
      },
      "execution_count": 17,
      "outputs": [
        {
          "output_type": "stream",
          "name": "stdout",
          "text": [
            "# A tibble: 3 × 3\n",
            "  rank      avg_salary count\n",
            "  <chr>          <dbl> <int>\n",
            "1 AssocProf     91786.    13\n",
            "2 AsstProf      81363.    19\n",
            "3 Prof         123625.    46\n"
          ]
        }
      ]
    },
    {
      "cell_type": "code",
      "source": [
        "%%R\n",
        "library(dplyr)\n",
        "\n",
        "df %>%\n",
        "  group_by(rank) %>%\n",
        "  summarise(across(where(is.numeric), ~ mean(.x, na.rm = TRUE)))\n"
      ],
      "metadata": {
        "colab": {
          "base_uri": "https://localhost:8080/"
        },
        "id": "4wGsmGIFuYAS",
        "outputId": "227d0dd5-1c76-4110-8574-6fab695aa402"
      },
      "execution_count": 19,
      "outputs": [
        {
          "output_type": "stream",
          "name": "stdout",
          "text": [
            "# A tibble: 3 × 4\n",
            "  rank        phd service  salary\n",
            "  <chr>     <dbl>   <dbl>   <dbl>\n",
            "1 AssocProf 15.1    11.3   91786.\n",
            "2 AsstProf   5.05    2.21  81363.\n",
            "3 Prof      27.1    21.4  123625.\n"
          ]
        }
      ]
    },
    {
      "cell_type": "markdown",
      "source": [
        "What this does:\n",
        "\n",
        "group_by(rank): Groups the data by the rank column\n",
        "\n",
        "summarise(across(...)): Summarizes each numeric column\n",
        "\n",
        "where(is.numeric): Applies only to numeric columns\n",
        "\n",
        "mean(.x, na.rm = TRUE): Calculates mean, skipping NAs"
      ],
      "metadata": {
        "id": "EHbXdgnxvLTN"
      }
    },
    {
      "cell_type": "code",
      "source": [
        "%%R\n",
        "\n",
        "df %>%\n",
        "  group_by(rank) %>%\n",
        "  summarise(mean_salary = mean(salary, na.rm = TRUE))\n"
      ],
      "metadata": {
        "colab": {
          "base_uri": "https://localhost:8080/"
        },
        "id": "1Vk0oGXKvFir",
        "outputId": "90f3f27a-e9e5-41d3-b54f-14cf82c0c76f"
      },
      "execution_count": 20,
      "outputs": [
        {
          "output_type": "stream",
          "name": "stdout",
          "text": [
            "# A tibble: 3 × 2\n",
            "  rank      mean_salary\n",
            "  <chr>           <dbl>\n",
            "1 AssocProf      91786.\n",
            "2 AsstProf       81363.\n",
            "3 Prof          123625.\n"
          ]
        }
      ]
    },
    {
      "cell_type": "markdown",
      "source": [
        "Explanation\n",
        "\n",
        "- group_by(rank): Groups data by the rank column\n",
        "\n",
        "- summarise(mean_salary = ...): Computes the mean of the salary column\n",
        "\n",
        "- na.rm = TRUE: Skips any missing values"
      ],
      "metadata": {
        "id": "PYfz8TGMvvWp"
      }
    },
    {
      "cell_type": "code",
      "source": [
        "%%R\n",
        "\n",
        "df %>%\n",
        "  group_by(rank) %>%\n",
        "  summarise(mean_salary = mean(salary, na.rm = TRUE)) %>%\n",
        "  arrange(match(rank, unique(df$rank)))\n"
      ],
      "metadata": {
        "colab": {
          "base_uri": "https://localhost:8080/"
        },
        "id": "AbWxZ2N5vp_T",
        "outputId": "cadf4091-639c-4948-b4be-e6d0234e7407"
      },
      "execution_count": 21,
      "outputs": [
        {
          "output_type": "stream",
          "name": "stdout",
          "text": [
            "# A tibble: 3 × 2\n",
            "  rank      mean_salary\n",
            "  <chr>           <dbl>\n",
            "1 Prof          123625.\n",
            "2 AssocProf      91786.\n",
            "3 AsstProf       81363.\n"
          ]
        }
      ]
    },
    {
      "cell_type": "markdown",
      "source": [
        "- group_by(rank): Group by the rank column\n",
        "\n",
        "- summarise(...): Compute mean salary\n",
        "\n",
        "- arrange(match(...)): Reorders the result to match the original order of rank values in df\n",
        "\n",
        "R automatically sorts groups alphabetically, so arrange(match(...)) is needed to suppress that — similar to sort=False in pandas."
      ],
      "metadata": {
        "id": "3_UFo5HJwMni"
      }
    },
    {
      "cell_type": "code",
      "source": [
        "%%R\n",
        "df_sub <- df %>% filter(salary > 120000)\n",
        "df_sub\n",
        "\n"
      ],
      "metadata": {
        "colab": {
          "base_uri": "https://localhost:8080/"
        },
        "id": "jyzWVEUuwFro",
        "outputId": "af79543b-33cd-46b1-ce3d-36b80a2999bb"
      },
      "execution_count": 22,
      "outputs": [
        {
          "output_type": "stream",
          "name": "stdout",
          "text": [
            "# A tibble: 25 × 6\n",
            "   rank  discipline   phd service sex   salary\n",
            "   <chr> <chr>      <dbl>   <dbl> <chr>  <dbl>\n",
            " 1 Prof  B             56      49 Male  186960\n",
            " 2 Prof  A             40      31 Male  131205\n",
            " 3 Prof  A             20      20 Male  122400\n",
            " 4 Prof  A             18      18 Male  126300\n",
            " 5 Prof  B             39      33 Male  128250\n",
            " 6 Prof  B             23      23 Male  134778\n",
            " 7 Prof  B             35      33 Male  162200\n",
            " 8 Prof  B             25      19 Male  153750\n",
            " 9 Prof  B             17       3 Male  150480\n",
            "10 Prof  A             29      27 Male  150500\n",
            "# ℹ 15 more rows\n",
            "# ℹ Use `print(n = ...)` to see more rows\n"
          ]
        }
      ]
    },
    {
      "cell_type": "code",
      "source": [
        "%%R\n",
        "#Select column Sex for females only:\n",
        "df_f <- df %>% filter(sex == \"Female\")\n",
        "df_f\n",
        "\n"
      ],
      "metadata": {
        "colab": {
          "base_uri": "https://localhost:8080/"
        },
        "id": "EIcn-ZN3xXla",
        "outputId": "5570ce06-9755-44ca-cdda-6b9bf60f6e6b"
      },
      "execution_count": 24,
      "outputs": [
        {
          "output_type": "stream",
          "name": "stdout",
          "text": [
            "# A tibble: 39 × 6\n",
            "   rank      discipline   phd service sex    salary\n",
            "   <chr>     <chr>      <dbl>   <dbl> <chr>   <dbl>\n",
            " 1 Prof      B             18      18 Female 129000\n",
            " 2 Prof      A             39      36 Female 137000\n",
            " 3 AssocProf A             13       8 Female  74830\n",
            " 4 AsstProf  B              4       2 Female  80225\n",
            " 5 AsstProf  B              5       0 Female  77000\n",
            " 6 Prof      B             23      19 Female 151768\n",
            " 7 Prof      B             25      25 Female 140096\n",
            " 8 AsstProf  B             11       3 Female  74692\n",
            " 9 AssocProf B             11      11 Female 103613\n",
            "10 Prof      B             17      17 Female 111512\n",
            "# ℹ 29 more rows\n",
            "# ℹ Use `print(n = ...)` to see more rows\n"
          ]
        }
      ]
    },
    {
      "cell_type": "code",
      "source": [
        "%%R\n",
        "df1 <- df %>% select(rank, salary)\n",
        "df1"
      ],
      "metadata": {
        "colab": {
          "base_uri": "https://localhost:8080/"
        },
        "id": "qL1E7SwXx7qJ",
        "outputId": "785850c6-7c44-4fa9-a9a0-4aaecddc76e3"
      },
      "execution_count": 27,
      "outputs": [
        {
          "output_type": "stream",
          "name": "stdout",
          "text": [
            "# A tibble: 78 × 2\n",
            "   rank      salary\n",
            "   <chr>      <dbl>\n",
            " 1 Prof      186960\n",
            " 2 Prof       93000\n",
            " 3 Prof      110515\n",
            " 4 Prof      131205\n",
            " 5 Prof      104800\n",
            " 6 Prof      122400\n",
            " 7 AssocProf  81285\n",
            " 8 Prof      126300\n",
            " 9 Prof       94350\n",
            "10 Prof       57800\n",
            "# ℹ 68 more rows\n",
            "# ℹ Use `print(n = ...)` to see more rows\n"
          ]
        }
      ]
    },
    {
      "cell_type": "code",
      "source": [
        "%%R\n",
        "df[10:20, ]"
      ],
      "metadata": {
        "colab": {
          "base_uri": "https://localhost:8080/"
        },
        "id": "EXsyKa4qxlxL",
        "outputId": "1960ffac-8b9f-469a-b063-88a55cf0074a"
      },
      "execution_count": 30,
      "outputs": [
        {
          "output_type": "stream",
          "name": "stdout",
          "text": [
            "# A tibble: 11 × 6\n",
            "   rank     discipline   phd service sex   salary\n",
            "   <chr>    <chr>      <dbl>   <dbl> <chr>  <dbl>\n",
            " 1 Prof     A             51      51 Male   57800\n",
            " 2 Prof     B             39      33 Male  128250\n",
            " 3 Prof     B             23      23 Male  134778\n",
            " 4 AsstProf B              1       0 Male   88000\n",
            " 5 Prof     B             35      33 Male  162200\n",
            " 6 Prof     B             25      19 Male  153750\n",
            " 7 Prof     B             17       3 Male  150480\n",
            " 8 AsstProf B              8       3 Male   75044\n",
            " 9 AsstProf B              4       0 Male   92000\n",
            "10 Prof     A             19       7 Male  107300\n",
            "11 Prof     A             29      27 Male  150500\n"
          ]
        }
      ]
    },
    {
      "cell_type": "code",
      "source": [
        "%%R\n",
        "df %>% slice(10:20)"
      ],
      "metadata": {
        "colab": {
          "base_uri": "https://localhost:8080/"
        },
        "id": "4IxV7EhHy2vQ",
        "outputId": "d5bf9b1e-f46f-4f30-95a5-cf4953e49e65"
      },
      "execution_count": 32,
      "outputs": [
        {
          "output_type": "stream",
          "name": "stdout",
          "text": [
            "# A tibble: 11 × 6\n",
            "   rank     discipline   phd service sex   salary\n",
            "   <chr>    <chr>      <dbl>   <dbl> <chr>  <dbl>\n",
            " 1 Prof     A             51      51 Male   57800\n",
            " 2 Prof     B             39      33 Male  128250\n",
            " 3 Prof     B             23      23 Male  134778\n",
            " 4 AsstProf B              1       0 Male   88000\n",
            " 5 Prof     B             35      33 Male  162200\n",
            " 6 Prof     B             25      19 Male  153750\n",
            " 7 Prof     B             17       3 Male  150480\n",
            " 8 AsstProf B              8       3 Male   75044\n",
            " 9 AsstProf B              4       0 Male   92000\n",
            "10 Prof     A             19       7 Male  107300\n",
            "11 Prof     A             29      27 Male  150500\n"
          ]
        }
      ]
    },
    {
      "cell_type": "code",
      "source": [
        "%%R\n",
        "df %>%\n",
        "  slice(10:20) %>%\n",
        "  select(rank, salary)\n"
      ],
      "metadata": {
        "colab": {
          "base_uri": "https://localhost:8080/"
        },
        "id": "928NtsLYzVNL",
        "outputId": "698056bc-7d06-46c5-9cb2-eb6656ebd76b"
      },
      "execution_count": 33,
      "outputs": [
        {
          "output_type": "stream",
          "name": "stdout",
          "text": [
            "# A tibble: 11 × 2\n",
            "   rank     salary\n",
            "   <chr>     <dbl>\n",
            " 1 Prof      57800\n",
            " 2 Prof     128250\n",
            " 3 Prof     134778\n",
            " 4 AsstProf  88000\n",
            " 5 Prof     162200\n",
            " 6 Prof     153750\n",
            " 7 Prof     150480\n",
            " 8 AsstProf  75044\n",
            " 9 AsstProf  92000\n",
            "10 Prof     107300\n",
            "11 Prof     150500\n"
          ]
        }
      ]
    },
    {
      "cell_type": "code",
      "source": [
        "%%R\n",
        "# First row of a data frame\n",
        "\n",
        "df %>% slice(1)\n"
      ],
      "metadata": {
        "colab": {
          "base_uri": "https://localhost:8080/"
        },
        "id": "xNwd9gYg0gB3",
        "outputId": "3e2eb574-e709-440f-938b-c08bc15fc016"
      },
      "execution_count": 36,
      "outputs": [
        {
          "output_type": "stream",
          "name": "stdout",
          "text": [
            "# A tibble: 77 × 6\n",
            "   rank      discipline   phd service sex   salary\n",
            "   <chr>     <chr>      <dbl>   <dbl> <chr>  <dbl>\n",
            " 1 Prof      A             12       6 Male   93000\n",
            " 2 Prof      A             23      20 Male  110515\n",
            " 3 Prof      A             40      31 Male  131205\n",
            " 4 Prof      B             20      18 Male  104800\n",
            " 5 Prof      A             20      20 Male  122400\n",
            " 6 AssocProf A             20      17 Male   81285\n",
            " 7 Prof      A             18      18 Male  126300\n",
            " 8 Prof      A             29      19 Male   94350\n",
            " 9 Prof      A             51      51 Male   57800\n",
            "10 Prof      B             39      33 Male  128250\n",
            "# ℹ 67 more rows\n",
            "# ℹ Use `print(n = ...)` to see more rows\n"
          ]
        }
      ]
    },
    {
      "cell_type": "code",
      "source": [
        "%%R\n",
        "#(i+1)th row\n",
        "i = 0\n",
        "df %>% slice(i+1)"
      ],
      "metadata": {
        "colab": {
          "base_uri": "https://localhost:8080/"
        },
        "id": "PXll5nh41wrK",
        "outputId": "1a802d8a-71fa-43b9-eeae-68732ff3a680"
      },
      "execution_count": 35,
      "outputs": [
        {
          "output_type": "stream",
          "name": "stdout",
          "text": [
            "# A tibble: 1 × 6\n",
            "  rank  discipline   phd service sex   salary\n",
            "  <chr> <chr>      <dbl>   <dbl> <chr>  <dbl>\n",
            "1 Prof  B             56      49 Male  186960\n"
          ]
        }
      ]
    },
    {
      "cell_type": "code",
      "source": [
        "%%R\n",
        "# Last row\n",
        "df %>% slice(n())"
      ],
      "metadata": {
        "colab": {
          "base_uri": "https://localhost:8080/"
        },
        "id": "wWzXOurU2TDK",
        "outputId": "769f119f-5b00-42a5-d6c9-6e7fca3c9eb2"
      },
      "execution_count": 37,
      "outputs": [
        {
          "output_type": "stream",
          "name": "stdout",
          "text": [
            "# A tibble: 1 × 6\n",
            "  rank  discipline   phd service sex    salary\n",
            "  <chr> <chr>      <dbl>   <dbl> <chr>   <dbl>\n",
            "1 Prof  A             23      15 Female 109646\n"
          ]
        }
      ]
    },
    {
      "cell_type": "code",
      "source": [
        "%%R\n",
        "# First column\n",
        "# df %>% select(1) #this works well too\n",
        "df[, 1]\n"
      ],
      "metadata": {
        "colab": {
          "base_uri": "https://localhost:8080/"
        },
        "id": "w75bBMHw3C9_",
        "outputId": "9f3f4f04-adde-480d-eb57-b7a135cc8d4a"
      },
      "execution_count": 39,
      "outputs": [
        {
          "output_type": "stream",
          "name": "stdout",
          "text": [
            "# A tibble: 78 × 1\n",
            "   rank     \n",
            "   <chr>    \n",
            " 1 Prof     \n",
            " 2 Prof     \n",
            " 3 Prof     \n",
            " 4 Prof     \n",
            " 5 Prof     \n",
            " 6 Prof     \n",
            " 7 AssocProf\n",
            " 8 Prof     \n",
            " 9 Prof     \n",
            "10 Prof     \n",
            "# ℹ 68 more rows\n",
            "# ℹ Use `print(n = ...)` to see more rows\n"
          ]
        }
      ]
    },
    {
      "cell_type": "code",
      "source": [
        "%%R\n",
        "# Last column\n",
        "#df %>% select(last_col()) #this works well too\n",
        "\n",
        "df[, ncol(df)]"
      ],
      "metadata": {
        "colab": {
          "base_uri": "https://localhost:8080/"
        },
        "id": "HMVMpQ-u3urq",
        "outputId": "4a4de52c-bf3f-4833-c830-2d8d778f85a5"
      },
      "execution_count": 43,
      "outputs": [
        {
          "output_type": "stream",
          "name": "stdout",
          "text": [
            "# A tibble: 78 × 1\n",
            "   salary\n",
            "    <dbl>\n",
            " 1 186960\n",
            " 2  93000\n",
            " 3 110515\n",
            " 4 131205\n",
            " 5 104800\n",
            " 6 122400\n",
            " 7  81285\n",
            " 8 126300\n",
            " 9  94350\n",
            "10  57800\n",
            "# ℹ 68 more rows\n",
            "# ℹ Use `print(n = ...)` to see more rows\n"
          ]
        }
      ]
    },
    {
      "cell_type": "code",
      "source": [
        "%%R\n",
        "# firts 7 rows\n",
        "df %>% slice(1:7)"
      ],
      "metadata": {
        "colab": {
          "base_uri": "https://localhost:8080/"
        },
        "id": "ukBQdZx94DUM",
        "outputId": "1852f362-f780-42d6-b745-7da11af3ef00"
      },
      "execution_count": 44,
      "outputs": [
        {
          "output_type": "stream",
          "name": "stdout",
          "text": [
            "# A tibble: 7 × 6\n",
            "  rank      discipline   phd service sex   salary\n",
            "  <chr>     <chr>      <dbl>   <dbl> <chr>  <dbl>\n",
            "1 Prof      B             56      49 Male  186960\n",
            "2 Prof      A             12       6 Male   93000\n",
            "3 Prof      A             23      20 Male  110515\n",
            "4 Prof      A             40      31 Male  131205\n",
            "5 Prof      B             20      18 Male  104800\n",
            "6 Prof      A             20      20 Male  122400\n",
            "7 AssocProf A             20      17 Male   81285\n"
          ]
        }
      ]
    },
    {
      "cell_type": "code",
      "source": [
        "%%R\n",
        "# first two columns\n",
        "df %>% select(1:2)"
      ],
      "metadata": {
        "colab": {
          "base_uri": "https://localhost:8080/"
        },
        "id": "IVUB-a-T5M9B",
        "outputId": "45b1fbfd-8047-410f-9819-97fbc632b64f"
      },
      "execution_count": 45,
      "outputs": [
        {
          "output_type": "stream",
          "name": "stdout",
          "text": [
            "# A tibble: 78 × 2\n",
            "   rank      discipline\n",
            "   <chr>     <chr>     \n",
            " 1 Prof      B         \n",
            " 2 Prof      A         \n",
            " 3 Prof      A         \n",
            " 4 Prof      A         \n",
            " 5 Prof      B         \n",
            " 6 Prof      A         \n",
            " 7 AssocProf A         \n",
            " 8 Prof      A         \n",
            " 9 Prof      A         \n",
            "10 Prof      A         \n",
            "# ℹ 68 more rows\n",
            "# ℹ Use `print(n = ...)` to see more rows\n"
          ]
        }
      ]
    },
    {
      "cell_type": "code",
      "source": [
        "%%R\n",
        "# #Second through third rows and first 2 columns\n",
        "df %>%\n",
        "  slice(2:3) %>%\n",
        "  select(1:2)"
      ],
      "metadata": {
        "colab": {
          "base_uri": "https://localhost:8080/"
        },
        "id": "9XZF_QPd5nN1",
        "outputId": "5c025bc9-6c91-4cf3-84b0-87d1d8e51e92"
      },
      "execution_count": 46,
      "outputs": [
        {
          "output_type": "stream",
          "name": "stdout",
          "text": [
            "# A tibble: 2 × 2\n",
            "  rank  discipline\n",
            "  <chr> <chr>     \n",
            "1 Prof  A         \n",
            "2 Prof  A         \n"
          ]
        }
      ]
    },
    {
      "cell_type": "code",
      "source": [
        "%%R\n",
        "## Create a new data frame from the original sorted by the column Salary\n",
        "df_sorted <- df %>%\n",
        "  arrange(service)\n",
        "\n",
        "head(df_sorted)"
      ],
      "metadata": {
        "colab": {
          "base_uri": "https://localhost:8080/"
        },
        "id": "kk2dsfyN7FUO",
        "outputId": "834dcc33-827a-46e8-e461-68b0ecdfd8c5"
      },
      "execution_count": 47,
      "outputs": [
        {
          "output_type": "stream",
          "name": "stdout",
          "text": [
            "# A tibble: 6 × 6\n",
            "  rank     discipline   phd service sex    salary\n",
            "  <chr>    <chr>      <dbl>   <dbl> <chr>   <dbl>\n",
            "1 AsstProf B              1       0 Male    88000\n",
            "2 AsstProf B              4       0 Male    92000\n",
            "3 AsstProf A              2       0 Male    85000\n",
            "4 AsstProf B              5       0 Female  77000\n",
            "5 Prof     A             12       0 Female 105000\n",
            "6 AsstProf A              2       0 Female  72500\n"
          ]
        }
      ]
    },
    {
      "cell_type": "code",
      "source": [],
      "metadata": {
        "id": "ZOWBQ21L7jLG"
      },
      "execution_count": null,
      "outputs": []
    }
  ]
}