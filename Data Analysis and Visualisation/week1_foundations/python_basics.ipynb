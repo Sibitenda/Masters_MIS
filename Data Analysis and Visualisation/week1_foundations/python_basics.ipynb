{
  "nbformat": 4,
  "nbformat_minor": 0,
  "metadata": {
    "colab": {
      "provenance": [],
      "authorship_tag": "ABX9TyOXyq9gTkXAVftKv7LeQnsd",
      "include_colab_link": true
    },
    "kernelspec": {
      "name": "python3",
      "display_name": "Python 3"
    },
    "language_info": {
      "name": "python"
    }
  },
  "cells": [
    {
      "cell_type": "markdown",
      "metadata": {
        "id": "view-in-github",
        "colab_type": "text"
      },
      "source": [
        "<a href=\"https://colab.research.google.com/github/Sibitenda/Masters_MIS/blob/main/Data%20Analysis%20and%20Visualisation/week1_foundations/python_basics.ipynb\" target=\"_parent\"><img src=\"https://colab.research.google.com/assets/colab-badge.svg\" alt=\"Open In Colab\"/></a>"
      ]
    },
    {
      "cell_type": "code",
      "execution_count": null,
      "metadata": {
        "id": "qG8FUYH56ewq",
        "outputId": "9ad8141c-bfb3-4a76-8046-d07c72343281",
        "colab": {
          "base_uri": "https://localhost:8080/"
        }
      },
      "outputs": [
        {
          "output_type": "stream",
          "name": "stdout",
          "text": [
            "   rank discipline  phd  service   sex  salary\n",
            "0  Prof          B   56       49  Male  186960\n",
            "1  Prof          A   12        6  Male   93000\n",
            "2  Prof          A   23       20  Male  110515\n",
            "3  Prof          A   40       31  Male  131205\n",
            "4  Prof          B   20       18  Male  104800\n"
          ]
        }
      ],
      "source": [
        "import pandas as pd\n",
        "\n",
        "# Example GitHub raw link — Replace with your actual URL\n",
        "url = \"https://raw.githubusercontent.com/Sibitenda/Masters_MIS/main/Data%20Analysis%20and%20Visualisation/Data/Salaries.csv\"\n",
        "\n",
        "# Load data\n",
        "df = pd.read_csv(url)\n",
        "print(df.head())\n"
      ]
    },
    {
      "cell_type": "code",
      "source": [
        "print(df.columns)"
      ],
      "metadata": {
        "id": "_UuznpdNlGrm",
        "outputId": "cee3f66e-ddd9-4ab7-a966-3448f2ad2b5b",
        "colab": {
          "base_uri": "https://localhost:8080/"
        }
      },
      "execution_count": null,
      "outputs": [
        {
          "output_type": "stream",
          "name": "stdout",
          "text": [
            "Index(['rank', 'discipline', 'phd', 'service', 'sex', 'salary'], dtype='object')\n"
          ]
        }
      ]
    },
    {
      "cell_type": "markdown",
      "source": [
        " Step 1: Using Functions"
      ],
      "metadata": {
        "id": "w-3zdHCckrhg"
      }
    },
    {
      "cell_type": "code",
      "source": [
        "def get_average_salary(df):\n",
        "    return df['salary'].mean()\n",
        "\n",
        "print(get_average_salary(df))\n"
      ],
      "metadata": {
        "id": "hQsgr3QvnMyN",
        "outputId": "55729dd5-e63b-4c93-878b-e8feb53ded00",
        "colab": {
          "base_uri": "https://localhost:8080/"
        }
      },
      "execution_count": null,
      "outputs": [
        {
          "output_type": "stream",
          "name": "stdout",
          "text": [
            "108023.78205128205\n"
          ]
        }
      ]
    },
    {
      "cell_type": "code",
      "source": [
        "def avg_salary_for_rank(df, rank):\n",
        "    return df[df['rank'] == rank]['salary'].mean()\n",
        "\n",
        "print(avg_salary_for_rank(df, 'Prof'))\n"
      ],
      "metadata": {
        "id": "L4lpdW22nW6O",
        "outputId": "15940e44-2b68-4856-81fe-ae189a2d9126",
        "colab": {
          "base_uri": "https://localhost:8080/"
        }
      },
      "execution_count": null,
      "outputs": [
        {
          "output_type": "stream",
          "name": "stdout",
          "text": [
            "123624.80434782608\n"
          ]
        }
      ]
    },
    {
      "cell_type": "code",
      "source": [
        "def count_females_by_discipline(df, discipline):\n",
        "    return len(df[(df['discipline'] == discipline) & (df['sex'] == 'Female')])\n",
        "print(\"Female faculty in discipline B:\", count_females_by_discipline(df, 'B'))\n"
      ],
      "metadata": {
        "id": "ztT0USCFnt0V",
        "outputId": "18756b0c-e5a2-4b4d-be1b-2815b361865a",
        "colab": {
          "base_uri": "https://localhost:8080/"
        }
      },
      "execution_count": null,
      "outputs": [
        {
          "output_type": "stream",
          "name": "stdout",
          "text": [
            "Female faculty in discipline B: 21\n"
          ]
        }
      ]
    },
    {
      "cell_type": "code",
      "source": [
        "def average_salary_by_rank(df, rank):\n",
        "    subset = df[df['rank'] == rank]\n",
        "    if not subset.empty:\n",
        "        return round(subset['salary'].mean(), 2)\n",
        "    else:\n",
        "        return f\"No data for rank: {rank}\"\n",
        "\n",
        "# Example usage\n",
        "print(\"Average salary for Professors:\", average_salary_by_rank(df, 'Prof'))\n"
      ],
      "metadata": {
        "id": "mVcl8hVlkQox",
        "outputId": "0acab7a7-f371-42fc-87a5-9d02f46df03b",
        "colab": {
          "base_uri": "https://localhost:8080/"
        }
      },
      "execution_count": null,
      "outputs": [
        {
          "output_type": "stream",
          "name": "stdout",
          "text": [
            "Average salary for Professors: 123624.8\n"
          ]
        }
      ]
    },
    {
      "cell_type": "markdown",
      "source": [
        "Step2. Using Loops"
      ],
      "metadata": {
        "id": "fMLyhcdvoHHN"
      }
    },
    {
      "cell_type": "code",
      "source": [
        "# for loop — loop through rows in the dataset\n",
        "# Print the first 5 salaries\n",
        "for i in range(5):\n",
        "    print(\"Salary:\", df['salary'][i])\n"
      ],
      "metadata": {
        "id": "6v9IoT4IkzQS",
        "outputId": "48b4fcd9-92d0-415b-a5c3-d628b6311bb8",
        "colab": {
          "base_uri": "https://localhost:8080/"
        }
      },
      "execution_count": null,
      "outputs": [
        {
          "output_type": "stream",
          "name": "stdout",
          "text": [
            "Salary: 186960\n",
            "Salary: 93000\n",
            "Salary: 110515\n",
            "Salary: 131205\n",
            "Salary: 104800\n"
          ]
        }
      ]
    },
    {
      "cell_type": "code",
      "source": [
        "for salary in df['salary']:\n",
        "    if salary > 120000:\n",
        "        print(\"High salary:\", salary)"
      ],
      "metadata": {
        "id": "uPAZvcAuqQLC",
        "outputId": "5e425932-e6a7-4efa-e54f-33c9b03e85de",
        "colab": {
          "base_uri": "https://localhost:8080/"
        }
      },
      "execution_count": null,
      "outputs": [
        {
          "output_type": "stream",
          "name": "stdout",
          "text": [
            "High salary: 186960\n",
            "High salary: 131205\n",
            "High salary: 122400\n",
            "High salary: 126300\n",
            "High salary: 128250\n",
            "High salary: 134778\n",
            "High salary: 162200\n",
            "High salary: 153750\n",
            "High salary: 150480\n",
            "High salary: 150500\n",
            "High salary: 148750\n",
            "High salary: 155865\n",
            "High salary: 123683\n",
            "High salary: 155750\n",
            "High salary: 126933\n",
            "High salary: 146856\n",
            "High salary: 129000\n",
            "High salary: 137000\n",
            "High salary: 151768\n",
            "High salary: 140096\n",
            "High salary: 122960\n",
            "High salary: 127512\n",
            "High salary: 144651\n",
            "High salary: 161101\n",
            "High salary: 124312\n"
          ]
        }
      ]
    },
    {
      "cell_type": "code",
      "source": [
        "# BONUS: Loop through rows and count how many earn more than 100k\n",
        "count = 0\n",
        "for salary in df['salary']:\n",
        "    if salary > 100000:\n",
        "        count += 1\n",
        "\n",
        "print(\"People earning over 100k:\", count)\n"
      ],
      "metadata": {
        "id": "gMx5n9HWrTve",
        "outputId": "f1f5f657-5b81-486f-88ae-da6257e7d424",
        "colab": {
          "base_uri": "https://localhost:8080/"
        }
      },
      "execution_count": null,
      "outputs": [
        {
          "output_type": "stream",
          "name": "stdout",
          "text": [
            "People earning over 100k: 46\n"
          ]
        }
      ]
    },
    {
      "cell_type": "code",
      "source": [
        "# while loop — repeat while a condition is true\n",
        "i = 0\n",
        "while i < len(df):\n",
        "    if df['salary'][i] > 120000:\n",
        "        print(\"Salary:\", df['salary'][i])\n",
        "    i += 1"
      ],
      "metadata": {
        "id": "5sJEFTx7otBD",
        "outputId": "937eb3fe-ca23-41ed-f1c9-3c8e92522f2b",
        "colab": {
          "base_uri": "https://localhost:8080/"
        }
      },
      "execution_count": null,
      "outputs": [
        {
          "output_type": "stream",
          "name": "stdout",
          "text": [
            "Salary: 186960\n",
            "Salary: 131205\n",
            "Salary: 122400\n",
            "Salary: 126300\n",
            "Salary: 128250\n",
            "Salary: 134778\n",
            "Salary: 162200\n",
            "Salary: 153750\n",
            "Salary: 150480\n",
            "Salary: 150500\n",
            "Salary: 148750\n",
            "Salary: 155865\n",
            "Salary: 123683\n",
            "Salary: 155750\n",
            "Salary: 126933\n",
            "Salary: 146856\n",
            "Salary: 129000\n",
            "Salary: 137000\n",
            "Salary: 151768\n",
            "Salary: 140096\n",
            "Salary: 122960\n",
            "Salary: 127512\n",
            "Salary: 144651\n",
            "Salary: 161101\n",
            "Salary: 124312\n"
          ]
        }
      ]
    },
    {
      "cell_type": "code",
      "source": [
        "#  Simulated do-while loop: Show at least one salary\n",
        "print(\"Salaries until we find one > 150000 (simulating do-while):\")\n",
        "\n",
        "i = 0\n",
        "while True:\n",
        "    print(\"Salary:\", df['salary'][i])\n",
        "    if df['salary'][i] > 150000:\n",
        "        break\n",
        "    i += 1\n",
        "    if i >= len(df):\n",
        "        break\n"
      ],
      "metadata": {
        "id": "InPIFvtco-jA",
        "outputId": "78bf8bc8-ee47-4871-bc3c-f4ed6d45b6eb",
        "colab": {
          "base_uri": "https://localhost:8080/"
        }
      },
      "execution_count": null,
      "outputs": [
        {
          "output_type": "stream",
          "name": "stdout",
          "text": [
            "Salaries until we find one > 150000 (simulating do-while):\n",
            "Salary: 186960\n"
          ]
        }
      ]
    },
    {
      "cell_type": "markdown",
      "source": [
        "Step 3. LISTS (store many values)"
      ],
      "metadata": {
        "id": "ySjGTha1rlGx"
      }
    },
    {
      "cell_type": "code",
      "source": [
        "# List of all salaries\n",
        "salary_list = list(df['salary'])\n",
        "print(salary_list[:5])  # first 5 salaries\n"
      ],
      "metadata": {
        "id": "gVRj9NsaqmFM",
        "outputId": "f009b79e-185a-4ba8-96d6-358565a4ed3d",
        "colab": {
          "base_uri": "https://localhost:8080/"
        }
      },
      "execution_count": null,
      "outputs": [
        {
          "output_type": "stream",
          "name": "stdout",
          "text": [
            "[186960, 93000, 110515, 131205, 104800]\n"
          ]
        }
      ]
    },
    {
      "cell_type": "markdown",
      "source": [],
      "metadata": {
        "id": "92kR5wNNGcQ0"
      }
    },
    {
      "cell_type": "code",
      "source": [
        "# List of all unique ranks\n",
        "ranks = df['rank'].unique().tolist()\n",
        "print(ranks)"
      ],
      "metadata": {
        "id": "qAuuYY35rvMy",
        "outputId": "ba551d1d-4ef9-4849-c989-24f4d8f46795",
        "colab": {
          "base_uri": "https://localhost:8080/"
        }
      },
      "execution_count": null,
      "outputs": [
        {
          "output_type": "stream",
          "name": "stdout",
          "text": [
            "['Prof', 'AssocProf', 'AsstProf']\n"
          ]
        }
      ]
    },
    {
      "cell_type": "code",
      "source": [
        "# List – All Unique Ranks and Disciplines\n",
        "ranks = list(df['rank'].unique())\n",
        "disciplines = list(df['discipline'].unique())\n",
        "\n",
        "print(\"Ranks:\", ranks)\n",
        "print(\"Disciplines:\", disciplines)\n"
      ],
      "metadata": {
        "id": "xTI1zlVis4ol",
        "outputId": "379b1e6b-4206-4db0-90c0-6244647e33bd",
        "colab": {
          "base_uri": "https://localhost:8080/"
        }
      },
      "execution_count": null,
      "outputs": [
        {
          "output_type": "stream",
          "name": "stdout",
          "text": [
            "Ranks: ['Prof', 'AssocProf', 'AsstProf']\n",
            "Disciplines: ['B', 'A']\n"
          ]
        }
      ]
    },
    {
      "cell_type": "markdown",
      "source": [
        "Step 4: Using If Statement"
      ],
      "metadata": {
        "id": "8MEsfBAKuf6k"
      }
    },
    {
      "cell_type": "code",
      "source": [
        "# Categorize Salary Level\n",
        "def salary_level(salary):\n",
        "    if salary < 90000:\n",
        "        return 'Low'\n",
        "    elif salary < 120000:\n",
        "        return 'Medium'\n",
        "    else:\n",
        "        return 'High'\n",
        "\n",
        "df['salary_level'] = df['salary'].apply(salary_level)\n",
        "print(df[['rank', 'salary', 'salary_level']].head())\n"
      ],
      "metadata": {
        "id": "SV-CIigCuQuP",
        "outputId": "faa3a6db-e741-4e4a-de89-36ded0966c0c",
        "colab": {
          "base_uri": "https://localhost:8080/"
        }
      },
      "execution_count": null,
      "outputs": [
        {
          "output_type": "stream",
          "name": "stdout",
          "text": [
            "   rank  salary salary_level\n",
            "0  Prof  186960         High\n",
            "1  Prof   93000       Medium\n",
            "2  Prof  110515       Medium\n",
            "3  Prof  131205         High\n",
            "4  Prof  104800       Medium\n"
          ]
        }
      ]
    },
    {
      "cell_type": "code",
      "source": [
        "# Check if salary is high\n",
        "def is_high(salary):\n",
        "    if salary > 120000:\n",
        "        return True\n",
        "    else:\n",
        "        return False\n",
        "\n",
        "print(is_high(130000))\n"
      ],
      "metadata": {
        "id": "rLKz2VM6u1CG",
        "outputId": "91878107-915c-4752-8063-3ead11d7cf4b",
        "colab": {
          "base_uri": "https://localhost:8080/"
        }
      },
      "execution_count": null,
      "outputs": [
        {
          "output_type": "stream",
          "name": "stdout",
          "text": [
            "True\n"
          ]
        }
      ]
    },
    {
      "cell_type": "code",
      "source": [
        "# Check if salary is high\n",
        "def is_high(salary):\n",
        "    if salary > 320000:\n",
        "        return True\n",
        "    else:\n",
        "        return False\n",
        "\n",
        "print(is_high(130000))"
      ],
      "metadata": {
        "id": "U7UtTbtlvFwc",
        "outputId": "fbfa0940-8fe4-43a8-fc17-b1a1af1ffdb4",
        "colab": {
          "base_uri": "https://localhost:8080/"
        }
      },
      "execution_count": null,
      "outputs": [
        {
          "output_type": "stream",
          "name": "stdout",
          "text": [
            "False\n"
          ]
        }
      ]
    },
    {
      "cell_type": "code",
      "source": [
        "# Tag salary level\n",
        "def tag_level(salary):\n",
        "    if salary < 90000:\n",
        "        return 'Low'\n",
        "    elif salary < 120000:\n",
        "        return 'Medium'\n",
        "    else:\n",
        "        return 'High'\n",
        "\n",
        "df['level'] = df['salary'].apply(tag_level)\n",
        "print(df[['salary', 'level']].head())\n"
      ],
      "metadata": {
        "id": "y9M1u_PlvTIX",
        "outputId": "f6a084c3-ced0-4762-8a6c-696aa5eaf328",
        "colab": {
          "base_uri": "https://localhost:8080/"
        }
      },
      "execution_count": null,
      "outputs": [
        {
          "output_type": "stream",
          "name": "stdout",
          "text": [
            "   salary   level\n",
            "0  186960    High\n",
            "1   93000  Medium\n",
            "2  110515  Medium\n",
            "3  131205    High\n",
            "4  104800  Medium\n"
          ]
        }
      ]
    },
    {
      "cell_type": "markdown",
      "source": [
        "Step: 5. CLASSES (create your own object)"
      ],
      "metadata": {
        "id": "cyNziLcYvyMp"
      }
    },
    {
      "cell_type": "code",
      "source": [
        "# Define a teacher\n",
        "class Teacher:\n",
        "    def __init__(self, rank, salary):\n",
        "        self.rank = rank\n",
        "        self.salary = salary\n",
        "\n",
        "    def show(self):\n",
        "        print(f\"{self.rank} earns {self.salary}\")\n",
        "\n",
        "t = Teacher(\"Prof\", 150000)\n",
        "t.show()\n"
      ],
      "metadata": {
        "id": "DPcYeV8lvfL-",
        "outputId": "9338bbc0-7fb8-4b0e-d31a-493b2716f3e1",
        "colab": {
          "base_uri": "https://localhost:8080/"
        }
      },
      "execution_count": null,
      "outputs": [
        {
          "output_type": "stream",
          "name": "stdout",
          "text": [
            "Prof earns 150000\n"
          ]
        }
      ]
    },
    {
      "cell_type": "code",
      "source": [
        "#  Basic FacultyMember Class\n",
        "class FacultyMember:\n",
        "    def __init__(self, name, rank, salary):\n",
        "        self.name = name\n",
        "        self.rank = rank\n",
        "        self.salary = salary\n",
        "\n",
        "    def describe(self):\n",
        "        return f\"{self.name} is a {self.rank} earning ${self.salary}\"\n",
        "# f = FacultyMember({name}, {rank}, {salary})\n",
        "# print(f.describe())\n",
        "# Create instances from the DataFrame\n",
        "faculty_list = []\n",
        "\n",
        "for idx, row in df.iterrows():\n",
        "    name = f\"Faculty_{idx}\"  # since no name is in df, we generate one\n",
        "    rank = row['rank']\n",
        "    salary = row['salary']\n",
        "    faculty = FacultyMember(name, rank, salary)\n",
        "    faculty_list.append(faculty)\n",
        "\n",
        "# Print descriptions\n",
        "for f in faculty_list:\n",
        "    print(f.describe())"
      ],
      "metadata": {
        "id": "hBB7YqTOw93O",
        "outputId": "f78d6721-9db4-45c3-c8ac-c7c8de1a1bf4",
        "colab": {
          "base_uri": "https://localhost:8080/"
        }
      },
      "execution_count": null,
      "outputs": [
        {
          "output_type": "stream",
          "name": "stdout",
          "text": [
            "Faculty_0 is a Prof earning $186960\n",
            "Faculty_1 is a Prof earning $93000\n",
            "Faculty_2 is a Prof earning $110515\n",
            "Faculty_3 is a Prof earning $131205\n",
            "Faculty_4 is a Prof earning $104800\n",
            "Faculty_5 is a Prof earning $122400\n",
            "Faculty_6 is a AssocProf earning $81285\n",
            "Faculty_7 is a Prof earning $126300\n",
            "Faculty_8 is a Prof earning $94350\n",
            "Faculty_9 is a Prof earning $57800\n",
            "Faculty_10 is a Prof earning $128250\n",
            "Faculty_11 is a Prof earning $134778\n",
            "Faculty_12 is a AsstProf earning $88000\n",
            "Faculty_13 is a Prof earning $162200\n",
            "Faculty_14 is a Prof earning $153750\n",
            "Faculty_15 is a Prof earning $150480\n",
            "Faculty_16 is a AsstProf earning $75044\n",
            "Faculty_17 is a AsstProf earning $92000\n",
            "Faculty_18 is a Prof earning $107300\n",
            "Faculty_19 is a Prof earning $150500\n",
            "Faculty_20 is a AsstProf earning $92000\n",
            "Faculty_21 is a Prof earning $103106\n",
            "Faculty_22 is a AsstProf earning $73000\n",
            "Faculty_23 is a AsstProf earning $85000\n",
            "Faculty_24 is a Prof earning $91100\n",
            "Faculty_25 is a Prof earning $99418\n",
            "Faculty_26 is a Prof earning $148750\n",
            "Faculty_27 is a Prof earning $155865\n",
            "Faculty_28 is a AsstProf earning $91300\n",
            "Faculty_29 is a Prof earning $123683\n",
            "Faculty_30 is a AssocProf earning $107008\n",
            "Faculty_31 is a Prof earning $155750\n",
            "Faculty_32 is a Prof earning $103275\n",
            "Faculty_33 is a Prof earning $120000\n",
            "Faculty_34 is a AssocProf earning $119800\n",
            "Faculty_35 is a Prof earning $126933\n",
            "Faculty_36 is a Prof earning $146856\n",
            "Faculty_37 is a Prof earning $102000\n",
            "Faculty_38 is a AsstProf earning $91000\n",
            "Faculty_39 is a Prof earning $129000\n",
            "Faculty_40 is a Prof earning $137000\n",
            "Faculty_41 is a AssocProf earning $74830\n",
            "Faculty_42 is a AsstProf earning $80225\n",
            "Faculty_43 is a AsstProf earning $77000\n",
            "Faculty_44 is a Prof earning $151768\n",
            "Faculty_45 is a Prof earning $140096\n",
            "Faculty_46 is a AsstProf earning $74692\n",
            "Faculty_47 is a AssocProf earning $103613\n",
            "Faculty_48 is a Prof earning $111512\n",
            "Faculty_49 is a Prof earning $122960\n",
            "Faculty_50 is a AsstProf earning $97032\n",
            "Faculty_51 is a Prof earning $127512\n",
            "Faculty_52 is a Prof earning $105000\n",
            "Faculty_53 is a AsstProf earning $73500\n",
            "Faculty_54 is a AssocProf earning $62884\n",
            "Faculty_55 is a AsstProf earning $72500\n",
            "Faculty_56 is a AssocProf earning $77500\n",
            "Faculty_57 is a AsstProf earning $72500\n",
            "Faculty_58 is a Prof earning $144651\n",
            "Faculty_59 is a AssocProf earning $103994\n",
            "Faculty_60 is a AsstProf earning $92000\n",
            "Faculty_61 is a AssocProf earning $103750\n",
            "Faculty_62 is a AssocProf earning $109650\n",
            "Faculty_63 is a Prof earning $91000\n",
            "Faculty_64 is a AssocProf earning $73300\n",
            "Faculty_65 is a Prof earning $117555\n",
            "Faculty_66 is a AsstProf earning $63100\n",
            "Faculty_67 is a Prof earning $90450\n",
            "Faculty_68 is a AsstProf earning $77500\n",
            "Faculty_69 is a Prof earning $116450\n",
            "Faculty_70 is a AsstProf earning $78500\n",
            "Faculty_71 is a AssocProf earning $71065\n",
            "Faculty_72 is a Prof earning $161101\n",
            "Faculty_73 is a Prof earning $105450\n",
            "Faculty_74 is a AssocProf earning $104542\n",
            "Faculty_75 is a Prof earning $124312\n",
            "Faculty_76 is a Prof earning $109954\n",
            "Faculty_77 is a Prof earning $109646\n"
          ]
        }
      ]
    },
    {
      "cell_type": "code",
      "source": [
        "class FacultyMember:\n",
        "    def __init__(self, rank, discipline, phd, service, sex, salary):\n",
        "        self.rank = rank\n",
        "        self.discipline = discipline\n",
        "        self.phd = phd\n",
        "        self.service = service\n",
        "        self.sex = sex\n",
        "        self.salary = salary\n",
        "\n",
        "    def info(self):\n",
        "        return f\"{self.sex} {self.rank} in {self.discipline} earns ${self.salary}\"\n",
        "\n",
        "    def is_senior(self):\n",
        "        return self.service >= 20\n",
        "\n",
        "# Example usage\n",
        "member = FacultyMember(\"Prof\", \"B\", 25, 22, \"Male\", 145000)\n",
        "print(member.info())\n",
        "print(\"Senior faculty?\", member.is_senior())\n"
      ],
      "metadata": {
        "id": "3o3iIdC_1_Xn",
        "outputId": "80f1a2e9-2d8d-4857-f527-bb51e47bc5c0",
        "colab": {
          "base_uri": "https://localhost:8080/"
        }
      },
      "execution_count": null,
      "outputs": [
        {
          "output_type": "stream",
          "name": "stdout",
          "text": [
            "Male Prof in B earns $145000\n",
            "Senior faculty? True\n"
          ]
        }
      ]
    },
    {
      "cell_type": "code",
      "source": [
        "df.head()"
      ],
      "metadata": {
        "id": "pYY0O07S0Qyr",
        "outputId": "a3d1219d-fc71-49ac-b963-967372f07a82",
        "colab": {
          "base_uri": "https://localhost:8080/",
          "height": 206
        }
      },
      "execution_count": null,
      "outputs": [
        {
          "output_type": "execute_result",
          "data": {
            "text/plain": [
              "   rank discipline  phd  service   sex  salary salary_level   level\n",
              "0  Prof          B   56       49  Male  186960         High    High\n",
              "1  Prof          A   12        6  Male   93000       Medium  Medium\n",
              "2  Prof          A   23       20  Male  110515       Medium  Medium\n",
              "3  Prof          A   40       31  Male  131205         High    High\n",
              "4  Prof          B   20       18  Male  104800       Medium  Medium"
            ],
            "text/html": [
              "\n",
              "  <div id=\"df-20df4313-e7ed-452f-9a66-09f7207f8b36\" class=\"colab-df-container\">\n",
              "    <div>\n",
              "<style scoped>\n",
              "    .dataframe tbody tr th:only-of-type {\n",
              "        vertical-align: middle;\n",
              "    }\n",
              "\n",
              "    .dataframe tbody tr th {\n",
              "        vertical-align: top;\n",
              "    }\n",
              "\n",
              "    .dataframe thead th {\n",
              "        text-align: right;\n",
              "    }\n",
              "</style>\n",
              "<table border=\"1\" class=\"dataframe\">\n",
              "  <thead>\n",
              "    <tr style=\"text-align: right;\">\n",
              "      <th></th>\n",
              "      <th>rank</th>\n",
              "      <th>discipline</th>\n",
              "      <th>phd</th>\n",
              "      <th>service</th>\n",
              "      <th>sex</th>\n",
              "      <th>salary</th>\n",
              "      <th>salary_level</th>\n",
              "      <th>level</th>\n",
              "    </tr>\n",
              "  </thead>\n",
              "  <tbody>\n",
              "    <tr>\n",
              "      <th>0</th>\n",
              "      <td>Prof</td>\n",
              "      <td>B</td>\n",
              "      <td>56</td>\n",
              "      <td>49</td>\n",
              "      <td>Male</td>\n",
              "      <td>186960</td>\n",
              "      <td>High</td>\n",
              "      <td>High</td>\n",
              "    </tr>\n",
              "    <tr>\n",
              "      <th>1</th>\n",
              "      <td>Prof</td>\n",
              "      <td>A</td>\n",
              "      <td>12</td>\n",
              "      <td>6</td>\n",
              "      <td>Male</td>\n",
              "      <td>93000</td>\n",
              "      <td>Medium</td>\n",
              "      <td>Medium</td>\n",
              "    </tr>\n",
              "    <tr>\n",
              "      <th>2</th>\n",
              "      <td>Prof</td>\n",
              "      <td>A</td>\n",
              "      <td>23</td>\n",
              "      <td>20</td>\n",
              "      <td>Male</td>\n",
              "      <td>110515</td>\n",
              "      <td>Medium</td>\n",
              "      <td>Medium</td>\n",
              "    </tr>\n",
              "    <tr>\n",
              "      <th>3</th>\n",
              "      <td>Prof</td>\n",
              "      <td>A</td>\n",
              "      <td>40</td>\n",
              "      <td>31</td>\n",
              "      <td>Male</td>\n",
              "      <td>131205</td>\n",
              "      <td>High</td>\n",
              "      <td>High</td>\n",
              "    </tr>\n",
              "    <tr>\n",
              "      <th>4</th>\n",
              "      <td>Prof</td>\n",
              "      <td>B</td>\n",
              "      <td>20</td>\n",
              "      <td>18</td>\n",
              "      <td>Male</td>\n",
              "      <td>104800</td>\n",
              "      <td>Medium</td>\n",
              "      <td>Medium</td>\n",
              "    </tr>\n",
              "  </tbody>\n",
              "</table>\n",
              "</div>\n",
              "    <div class=\"colab-df-buttons\">\n",
              "\n",
              "  <div class=\"colab-df-container\">\n",
              "    <button class=\"colab-df-convert\" onclick=\"convertToInteractive('df-20df4313-e7ed-452f-9a66-09f7207f8b36')\"\n",
              "            title=\"Convert this dataframe to an interactive table.\"\n",
              "            style=\"display:none;\">\n",
              "\n",
              "  <svg xmlns=\"http://www.w3.org/2000/svg\" height=\"24px\" viewBox=\"0 -960 960 960\">\n",
              "    <path d=\"M120-120v-720h720v720H120Zm60-500h600v-160H180v160Zm220 220h160v-160H400v160Zm0 220h160v-160H400v160ZM180-400h160v-160H180v160Zm440 0h160v-160H620v160ZM180-180h160v-160H180v160Zm440 0h160v-160H620v160Z\"/>\n",
              "  </svg>\n",
              "    </button>\n",
              "\n",
              "  <style>\n",
              "    .colab-df-container {\n",
              "      display:flex;\n",
              "      gap: 12px;\n",
              "    }\n",
              "\n",
              "    .colab-df-convert {\n",
              "      background-color: #E8F0FE;\n",
              "      border: none;\n",
              "      border-radius: 50%;\n",
              "      cursor: pointer;\n",
              "      display: none;\n",
              "      fill: #1967D2;\n",
              "      height: 32px;\n",
              "      padding: 0 0 0 0;\n",
              "      width: 32px;\n",
              "    }\n",
              "\n",
              "    .colab-df-convert:hover {\n",
              "      background-color: #E2EBFA;\n",
              "      box-shadow: 0px 1px 2px rgba(60, 64, 67, 0.3), 0px 1px 3px 1px rgba(60, 64, 67, 0.15);\n",
              "      fill: #174EA6;\n",
              "    }\n",
              "\n",
              "    .colab-df-buttons div {\n",
              "      margin-bottom: 4px;\n",
              "    }\n",
              "\n",
              "    [theme=dark] .colab-df-convert {\n",
              "      background-color: #3B4455;\n",
              "      fill: #D2E3FC;\n",
              "    }\n",
              "\n",
              "    [theme=dark] .colab-df-convert:hover {\n",
              "      background-color: #434B5C;\n",
              "      box-shadow: 0px 1px 3px 1px rgba(0, 0, 0, 0.15);\n",
              "      filter: drop-shadow(0px 1px 2px rgba(0, 0, 0, 0.3));\n",
              "      fill: #FFFFFF;\n",
              "    }\n",
              "  </style>\n",
              "\n",
              "    <script>\n",
              "      const buttonEl =\n",
              "        document.querySelector('#df-20df4313-e7ed-452f-9a66-09f7207f8b36 button.colab-df-convert');\n",
              "      buttonEl.style.display =\n",
              "        google.colab.kernel.accessAllowed ? 'block' : 'none';\n",
              "\n",
              "      async function convertToInteractive(key) {\n",
              "        const element = document.querySelector('#df-20df4313-e7ed-452f-9a66-09f7207f8b36');\n",
              "        const dataTable =\n",
              "          await google.colab.kernel.invokeFunction('convertToInteractive',\n",
              "                                                    [key], {});\n",
              "        if (!dataTable) return;\n",
              "\n",
              "        const docLinkHtml = 'Like what you see? Visit the ' +\n",
              "          '<a target=\"_blank\" href=https://colab.research.google.com/notebooks/data_table.ipynb>data table notebook</a>'\n",
              "          + ' to learn more about interactive tables.';\n",
              "        element.innerHTML = '';\n",
              "        dataTable['output_type'] = 'display_data';\n",
              "        await google.colab.output.renderOutput(dataTable, element);\n",
              "        const docLink = document.createElement('div');\n",
              "        docLink.innerHTML = docLinkHtml;\n",
              "        element.appendChild(docLink);\n",
              "      }\n",
              "    </script>\n",
              "  </div>\n",
              "\n",
              "\n",
              "    <div id=\"df-bd2e767e-d0fb-4a4b-b9d7-46dbf9a9e8a3\">\n",
              "      <button class=\"colab-df-quickchart\" onclick=\"quickchart('df-bd2e767e-d0fb-4a4b-b9d7-46dbf9a9e8a3')\"\n",
              "                title=\"Suggest charts\"\n",
              "                style=\"display:none;\">\n",
              "\n",
              "<svg xmlns=\"http://www.w3.org/2000/svg\" height=\"24px\"viewBox=\"0 0 24 24\"\n",
              "     width=\"24px\">\n",
              "    <g>\n",
              "        <path d=\"M19 3H5c-1.1 0-2 .9-2 2v14c0 1.1.9 2 2 2h14c1.1 0 2-.9 2-2V5c0-1.1-.9-2-2-2zM9 17H7v-7h2v7zm4 0h-2V7h2v10zm4 0h-2v-4h2v4z\"/>\n",
              "    </g>\n",
              "</svg>\n",
              "      </button>\n",
              "\n",
              "<style>\n",
              "  .colab-df-quickchart {\n",
              "      --bg-color: #E8F0FE;\n",
              "      --fill-color: #1967D2;\n",
              "      --hover-bg-color: #E2EBFA;\n",
              "      --hover-fill-color: #174EA6;\n",
              "      --disabled-fill-color: #AAA;\n",
              "      --disabled-bg-color: #DDD;\n",
              "  }\n",
              "\n",
              "  [theme=dark] .colab-df-quickchart {\n",
              "      --bg-color: #3B4455;\n",
              "      --fill-color: #D2E3FC;\n",
              "      --hover-bg-color: #434B5C;\n",
              "      --hover-fill-color: #FFFFFF;\n",
              "      --disabled-bg-color: #3B4455;\n",
              "      --disabled-fill-color: #666;\n",
              "  }\n",
              "\n",
              "  .colab-df-quickchart {\n",
              "    background-color: var(--bg-color);\n",
              "    border: none;\n",
              "    border-radius: 50%;\n",
              "    cursor: pointer;\n",
              "    display: none;\n",
              "    fill: var(--fill-color);\n",
              "    height: 32px;\n",
              "    padding: 0;\n",
              "    width: 32px;\n",
              "  }\n",
              "\n",
              "  .colab-df-quickchart:hover {\n",
              "    background-color: var(--hover-bg-color);\n",
              "    box-shadow: 0 1px 2px rgba(60, 64, 67, 0.3), 0 1px 3px 1px rgba(60, 64, 67, 0.15);\n",
              "    fill: var(--button-hover-fill-color);\n",
              "  }\n",
              "\n",
              "  .colab-df-quickchart-complete:disabled,\n",
              "  .colab-df-quickchart-complete:disabled:hover {\n",
              "    background-color: var(--disabled-bg-color);\n",
              "    fill: var(--disabled-fill-color);\n",
              "    box-shadow: none;\n",
              "  }\n",
              "\n",
              "  .colab-df-spinner {\n",
              "    border: 2px solid var(--fill-color);\n",
              "    border-color: transparent;\n",
              "    border-bottom-color: var(--fill-color);\n",
              "    animation:\n",
              "      spin 1s steps(1) infinite;\n",
              "  }\n",
              "\n",
              "  @keyframes spin {\n",
              "    0% {\n",
              "      border-color: transparent;\n",
              "      border-bottom-color: var(--fill-color);\n",
              "      border-left-color: var(--fill-color);\n",
              "    }\n",
              "    20% {\n",
              "      border-color: transparent;\n",
              "      border-left-color: var(--fill-color);\n",
              "      border-top-color: var(--fill-color);\n",
              "    }\n",
              "    30% {\n",
              "      border-color: transparent;\n",
              "      border-left-color: var(--fill-color);\n",
              "      border-top-color: var(--fill-color);\n",
              "      border-right-color: var(--fill-color);\n",
              "    }\n",
              "    40% {\n",
              "      border-color: transparent;\n",
              "      border-right-color: var(--fill-color);\n",
              "      border-top-color: var(--fill-color);\n",
              "    }\n",
              "    60% {\n",
              "      border-color: transparent;\n",
              "      border-right-color: var(--fill-color);\n",
              "    }\n",
              "    80% {\n",
              "      border-color: transparent;\n",
              "      border-right-color: var(--fill-color);\n",
              "      border-bottom-color: var(--fill-color);\n",
              "    }\n",
              "    90% {\n",
              "      border-color: transparent;\n",
              "      border-bottom-color: var(--fill-color);\n",
              "    }\n",
              "  }\n",
              "</style>\n",
              "\n",
              "      <script>\n",
              "        async function quickchart(key) {\n",
              "          const quickchartButtonEl =\n",
              "            document.querySelector('#' + key + ' button');\n",
              "          quickchartButtonEl.disabled = true;  // To prevent multiple clicks.\n",
              "          quickchartButtonEl.classList.add('colab-df-spinner');\n",
              "          try {\n",
              "            const charts = await google.colab.kernel.invokeFunction(\n",
              "                'suggestCharts', [key], {});\n",
              "          } catch (error) {\n",
              "            console.error('Error during call to suggestCharts:', error);\n",
              "          }\n",
              "          quickchartButtonEl.classList.remove('colab-df-spinner');\n",
              "          quickchartButtonEl.classList.add('colab-df-quickchart-complete');\n",
              "        }\n",
              "        (() => {\n",
              "          let quickchartButtonEl =\n",
              "            document.querySelector('#df-bd2e767e-d0fb-4a4b-b9d7-46dbf9a9e8a3 button');\n",
              "          quickchartButtonEl.style.display =\n",
              "            google.colab.kernel.accessAllowed ? 'block' : 'none';\n",
              "        })();\n",
              "      </script>\n",
              "    </div>\n",
              "\n",
              "    </div>\n",
              "  </div>\n"
            ],
            "application/vnd.google.colaboratory.intrinsic+json": {
              "type": "dataframe",
              "variable_name": "df",
              "summary": "{\n  \"name\": \"df\",\n  \"rows\": 78,\n  \"fields\": [\n    {\n      \"column\": \"rank\",\n      \"properties\": {\n        \"dtype\": \"category\",\n        \"num_unique_values\": 3,\n        \"samples\": [\n          \"Prof\",\n          \"AssocProf\",\n          \"AsstProf\"\n        ],\n        \"semantic_type\": \"\",\n        \"description\": \"\"\n      }\n    },\n    {\n      \"column\": \"discipline\",\n      \"properties\": {\n        \"dtype\": \"category\",\n        \"num_unique_values\": 2,\n        \"samples\": [\n          \"A\",\n          \"B\"\n        ],\n        \"semantic_type\": \"\",\n        \"description\": \"\"\n      }\n    },\n    {\n      \"column\": \"phd\",\n      \"properties\": {\n        \"dtype\": \"number\",\n        \"std\": 12,\n        \"min\": 1,\n        \"max\": 56,\n        \"num_unique_values\": 36,\n        \"samples\": [\n          24,\n          8\n        ],\n        \"semantic_type\": \"\",\n        \"description\": \"\"\n      }\n    },\n    {\n      \"column\": \"service\",\n      \"properties\": {\n        \"dtype\": \"number\",\n        \"std\": 12,\n        \"min\": 0,\n        \"max\": 51,\n        \"num_unique_values\": 33,\n        \"samples\": [\n          9,\n          30\n        ],\n        \"semantic_type\": \"\",\n        \"description\": \"\"\n      }\n    },\n    {\n      \"column\": \"sex\",\n      \"properties\": {\n        \"dtype\": \"category\",\n        \"num_unique_values\": 2,\n        \"samples\": [\n          \"Female\",\n          \"Male\"\n        ],\n        \"semantic_type\": \"\",\n        \"description\": \"\"\n      }\n    },\n    {\n      \"column\": \"salary\",\n      \"properties\": {\n        \"dtype\": \"number\",\n        \"std\": 28293,\n        \"min\": 57800,\n        \"max\": 186960,\n        \"num_unique_values\": 73,\n        \"samples\": [\n          104800,\n          90450\n        ],\n        \"semantic_type\": \"\",\n        \"description\": \"\"\n      }\n    },\n    {\n      \"column\": \"salary_level\",\n      \"properties\": {\n        \"dtype\": \"category\",\n        \"num_unique_values\": 3,\n        \"samples\": [\n          \"High\",\n          \"Medium\"\n        ],\n        \"semantic_type\": \"\",\n        \"description\": \"\"\n      }\n    },\n    {\n      \"column\": \"level\",\n      \"properties\": {\n        \"dtype\": \"category\",\n        \"num_unique_values\": 3,\n        \"samples\": [\n          \"High\",\n          \"Medium\"\n        ],\n        \"semantic_type\": \"\",\n        \"description\": \"\"\n      }\n    }\n  ]\n}"
            }
          },
          "metadata": {},
          "execution_count": 55
        }
      ]
    },
    {
      "cell_type": "code",
      "source": [
        "df.columns"
      ],
      "metadata": {
        "id": "g6ThkGB8zJQM",
        "outputId": "1d06802b-27a2-485a-d0f4-9446c42eb159",
        "colab": {
          "base_uri": "https://localhost:8080/"
        }
      },
      "execution_count": null,
      "outputs": [
        {
          "output_type": "execute_result",
          "data": {
            "text/plain": [
              "Index(['rank', 'discipline', 'phd', 'service', 'sex', 'salary', 'salary_level',\n",
              "       'level'],\n",
              "      dtype='object')"
            ]
          },
          "metadata": {},
          "execution_count": 54
        }
      ]
    },
    {
      "cell_type": "code",
      "source": [
        "# Check if experienced\n",
        "class Teacher:\n",
        "    def __init__(self, service):\n",
        "        self.service = service\n",
        "\n",
        "    def is_experienced(self):\n",
        "        return self.service > 15\n",
        "\n",
        "t = Teacher(40)\n",
        "g = Teacher(2)\n",
        "print(t.is_experienced())\n",
        "print(g.is_experienced())\n"
      ],
      "metadata": {
        "id": "erExZDTOv7GY",
        "outputId": "8feeaa4b-63a8-40a8-a844-bf58894a21e5",
        "colab": {
          "base_uri": "https://localhost:8080/"
        }
      },
      "execution_count": null,
      "outputs": [
        {
          "output_type": "stream",
          "name": "stdout",
          "text": [
            "True\n",
            "False\n"
          ]
        }
      ]
    },
    {
      "cell_type": "code",
      "source": [
        "# df"
      ],
      "metadata": {
        "id": "eGlyifZDwXAx"
      },
      "execution_count": null,
      "outputs": []
    },
    {
      "cell_type": "code",
      "source": [],
      "metadata": {
        "id": "DrJMBhgHwt4W"
      },
      "execution_count": null,
      "outputs": []
    }
  ]
}